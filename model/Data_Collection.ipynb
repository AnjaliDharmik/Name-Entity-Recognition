{
  "nbformat": 4,
  "nbformat_minor": 0,
  "metadata": {
    "colab": {
      "provenance": []
    },
    "kernelspec": {
      "name": "python3",
      "display_name": "Python 3"
    },
    "language_info": {
      "name": "python"
    }
  },
  "cells": [
    {
      "cell_type": "markdown",
      "source": [
        "# Objective:\n",
        "- Implement a BERT baseline transformer model to extract NOUNS from the text.\n",
        "- calculate model time efficiency and performance.\n",
        "- Divide dataset into training and validation part with fine-tuning.\n",
        "- Perform Evaluation with metrics including accuracy, precision, recall and F1."
      ],
      "metadata": {
        "id": "4LOPK2O2zuc5"
      }
    },
    {
      "cell_type": "markdown",
      "source": [
        "# Load Data"
      ],
      "metadata": {
        "id": "fV2fzlxDzzLs"
      }
    },
    {
      "cell_type": "code",
      "execution_count": 5,
      "metadata": {
        "colab": {
          "base_uri": "https://localhost:8080/"
        },
        "id": "dv93vFd1zpad",
        "outputId": "5af2f3c3-b489-45ea-dd5d-4de5eca62712"
      },
      "outputs": [
        {
          "output_type": "stream",
          "name": "stdout",
          "text": [
            "     ID  Number                                        Description\n",
            "0   699   71988  A man in a wheelchair and another sitting on a...\n",
            "1   701  193622      A man sits with a traditionally decorated cow\n",
            "2   827   52087  A man getting a drink from a water fountain th...\n",
            "3   891  119964  A person holding a skateboard overlooks a dead...\n",
            "4  1221  382406              A woman is walking a dog in the city.\n"
          ]
        }
      ],
      "source": [
        "import pandas as pd\n",
        "\n",
        "test_datafile = '/content/human_image_captions.json'\n",
        "\n",
        "# Read JSON file into a pandas DataFrame\n",
        "df = pd.read_json(test_datafile)\n",
        "\n",
        "# Rename columns\n",
        "new_columns = {0: 'ID', 1: 'Number', 2: 'Description'}\n",
        "df = df.rename(columns=new_columns)\n",
        "\n",
        "# Display the DataFrame\n",
        "print(df.head())\n",
        "\n",
        "df.to_csv(\"Test_Data.csv\",index=False)\n"
      ]
    },
    {
      "cell_type": "code",
      "source": [
        "df.shape"
      ],
      "metadata": {
        "colab": {
          "base_uri": "https://localhost:8080/"
        },
        "id": "H7aS1DEx0teh",
        "outputId": "4b54b743-259f-4461-e11a-b1e36b0a734e"
      },
      "execution_count": 3,
      "outputs": [
        {
          "output_type": "execute_result",
          "data": {
            "text/plain": [
              "(55803, 3)"
            ]
          },
          "metadata": {},
          "execution_count": 3
        }
      ]
    },
    {
      "cell_type": "code",
      "source": [
        "train_datafile = '/content/captions_train2017_human_entities.json'\n",
        "\n",
        "# Read JSON file into a pandas DataFrame\n",
        "df = pd.read_json(train_datafile)\n",
        "\n",
        "# Rename columns\n",
        "new_columns = {0: 'ID', 1: 'Number', 2: 'Description',3:'Keywords'}\n",
        "df = df.rename(columns=new_columns)\n",
        "\n",
        "# Display the DataFrame\n",
        "print(df.head())\n",
        "\n",
        "df.to_csv(\"Train_Data.csv\",index=False)\n"
      ],
      "metadata": {
        "colab": {
          "base_uri": "https://localhost:8080/"
        },
        "id": "tfARkwof0uhN",
        "outputId": "985d5b3d-0347-4c9e-9efa-204b4971cd24"
      },
      "execution_count": 6,
      "outputs": [
        {
          "output_type": "stream",
          "name": "stdout",
          "text": [
            "     ID  Number                                        Description  \\\n",
            "0   699   71988  A man in a wheelchair and another sitting on a...   \n",
            "1   701  193622      A man sits with a traditionally decorated cow   \n",
            "2   827   52087  A man getting a drink from a water fountain th...   \n",
            "3   891  119964  A person holding a skateboard overlooks a dead...   \n",
            "4  1221  382406              A woman is walking a dog in the city.   \n",
            "\n",
            "                                    Keywords  \n",
            "0   [man, wheelchair, another, bench, water]  \n",
            "1         [man, traditionally decorated cow]  \n",
            "2       [man, drink, water fountain, toilet]  \n",
            "3  [person, skateboard, dead field of crops]  \n",
            "4                         [woman, dog, city]  \n"
          ]
        }
      ]
    },
    {
      "cell_type": "code",
      "source": [],
      "metadata": {
        "id": "EBNMK19304IK"
      },
      "execution_count": null,
      "outputs": []
    }
  ]
}